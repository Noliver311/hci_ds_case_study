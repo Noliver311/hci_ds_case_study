{
 "cells": [
  {
   "cell_type": "code",
   "execution_count": 19,
   "metadata": {},
   "outputs": [],
   "source": [
    "import pandas as pd\n",
    "import numpy as np\n",
    "import matplotlib.pyplot as plt"
   ]
  },
  {
   "cell_type": "code",
   "execution_count": 121,
   "metadata": {},
   "outputs": [],
   "source": [
    "df_10_consumption = pd.read_csv(r\"C:\\Users\\NicholasOliver\\OneDrive - amendllc.com\\DS_Case_Study\\2024-04-ds_cast_study_data\\division_010_consumption.csv\")\n",
    "df_10_holiday = pd.read_csv(r\"C:\\Users\\NicholasOliver\\OneDrive - amendllc.com\\DS_Case_Study\\2024-04-ds_cast_study_data\\division_010_holiday.csv\")\n",
    "df_10_weather = pd.read_csv(r\"C:\\Users\\NicholasOliver\\OneDrive - amendllc.com\\DS_Case_Study\\2024-04-ds_cast_study_data\\division_010_weather.csv\")\n",
    "df_30_consumption = pd.read_csv(r\"C:\\Users\\NicholasOliver\\OneDrive - amendllc.com\\DS_Case_Study\\2024-04-ds_cast_study_data\\division_030_consumption.csv\")\n",
    "df_30_holiday = pd.read_csv(r\"C:\\Users\\NicholasOliver\\OneDrive - amendllc.com\\DS_Case_Study\\2024-04-ds_cast_study_data\\division_030_holiday.csv\")\n",
    "df_30_weather = pd.read_csv(r\"C:\\Users\\NicholasOliver\\OneDrive - amendllc.com\\DS_Case_Study\\2024-04-ds_cast_study_data\\division_030_weather.csv\")"
   ]
  },
  {
   "cell_type": "code",
   "execution_count": 122,
   "metadata": {},
   "outputs": [],
   "source": [
    "df_10_weather['AvgTemp'] = df_10_weather['ProjectedHighTemp'] - ((df_10_weather['ProjectedHighTemp'] - df_10_weather['ProjectedLowTemp'])/2)\n",
    "df_30_weather['AvgTemp'] = df_30_weather['ProjectedHighTemp'] - ((df_30_weather['ProjectedHighTemp'] - df_30_weather['ProjectedLowTemp'])/2)\n",
    "df_30_holiday = df_30_holiday.drop(['PeakMonth', 'Event01', 'Event02', 'Event03', 'Event04', 'Event05'], axis=1)\n",
    "df_10_holiday = df_10_holiday.drop(['PeakMonth', 'Event01', 'Event02', 'Event03', 'Event04', 'Event05'], axis=1)\n",
    "columns_to_check = ['Christmas', 'July4th', 'SuperBowl', 'Thanksgiving', 'Easter', 'LaborDay', 'MemorialDay', 'NewYearsEve', 'NewYearsDay']\n",
    "df_30_holiday['Holiday?'] = df_30_holiday[columns_to_check].any(axis=1)\n",
    "df_10_holiday['Holiday?'] = df_10_holiday[columns_to_check].any(axis=1)\n",
    "df_10_consumption['TotalConsumption'] = df_10_consumption['TotalConsumption'].astype(int)\n",
    "df_10_consumption['TotalConsumption'] = df_10_consumption['TotalConsumption'].apply(lambda x:abs(x))\n",
    "df_10_consumption.drop(df_10_consumption[df_10_consumption['TotalConsumption']==0].index, inplace=True)\n",
    "df_10_consumption = df_10_consumption.drop('Unnamed: 4', axis=1)\n",
    "df_30_consumption = df_30_consumption.drop('Unnamed: 4', axis=1)\n",
    "df_10_consumption['DayOfTheYear'] = pd.to_datetime(df_10_consumption['DayOfTheYear'])\n",
    "df_30_consumption['DayOfTheYear'] = pd.to_datetime(df_30_consumption['DayOfTheYear'])\n",
    "df_10_consumption['DayOfTheWeek'] = df_10_consumption['DayOfTheYear'].dt.day_name()\n",
    "df_30_consumption['DayOfTheWeek'] = df_30_consumption['DayOfTheYear'].dt.day_name()"
   ]
  },
  {
   "cell_type": "code",
   "execution_count": 129,
   "metadata": {},
   "outputs": [
    {
     "ename": "TypeError",
     "evalue": "'method' object is not subscriptable",
     "output_type": "error",
     "traceback": [
      "\u001b[1;31m---------------------------------------------------------------------------\u001b[0m",
      "\u001b[1;31mTypeError\u001b[0m                                 Traceback (most recent call last)",
      "Cell \u001b[1;32mIn[129], line 1\u001b[0m\n\u001b[1;32m----> 1\u001b[0m mean_values \u001b[38;5;241m=\u001b[39m \u001b[43mdf_10_consumption\u001b[49m\u001b[38;5;241;43m.\u001b[39;49m\u001b[43mgroupby\u001b[49m\u001b[43m[\u001b[49m\u001b[38;5;124;43m'\u001b[39;49m\u001b[38;5;124;43mDayOfTheWeek\u001b[39;49m\u001b[38;5;124;43m'\u001b[39;49m\u001b[43m,\u001b[49m\u001b[38;5;124;43m'\u001b[39;49m\u001b[38;5;124;43mTotalConsumed\u001b[39;49m\u001b[38;5;124;43m'\u001b[39;49m\u001b[43m]\u001b[49m\u001b[38;5;241m.\u001b[39mmean()\n",
      "\u001b[1;31mTypeError\u001b[0m: 'method' object is not subscriptable"
     ]
    }
   ],
   "source": [
    "mean_values = df_10_consumption.groupby['DayOfTheWeek','TotalConsumed'].mean()"
   ]
  }
 ],
 "metadata": {
  "kernelspec": {
   "display_name": "Python 3",
   "language": "python",
   "name": "python3"
  },
  "language_info": {
   "codemirror_mode": {
    "name": "ipython",
    "version": 3
   },
   "file_extension": ".py",
   "mimetype": "text/x-python",
   "name": "python",
   "nbconvert_exporter": "python",
   "pygments_lexer": "ipython3",
   "version": "3.11.7"
  }
 },
 "nbformat": 4,
 "nbformat_minor": 2
}
