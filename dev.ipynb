{
 "cells": [
  {
   "cell_type": "code",
   "execution_count": 1,
   "metadata": {},
   "outputs": [],
   "source": [
    "import pandas as pd\n",
    "import numpy as np\n",
    "import statsmodels.api as sm\n",
    "from scipy.stats import f_oneway\n",
    "from statsmodels.stats.multicomp import pairwise_tukeyhsd\n",
    "from sklearn.preprocessing import LabelEncoder\n"
   ]
  },
  {
   "cell_type": "code",
   "execution_count": 2,
   "metadata": {},
   "outputs": [],
   "source": [
    "# Import\n",
    "df_10_consumption = pd.read_csv(r\"C:\\Users\\NicholasOliver\\OneDrive - amendllc.com\\DS_Case_Study\\2024-04-ds_cast_study_data\\division_010_consumption.csv\")\n",
    "df_10_holiday = pd.read_csv(r\"C:\\Users\\NicholasOliver\\OneDrive - amendllc.com\\DS_Case_Study\\2024-04-ds_cast_study_data\\division_010_holiday.csv\")\n",
    "df_10_weather = pd.read_csv(r\"C:\\Users\\NicholasOliver\\OneDrive - amendllc.com\\DS_Case_Study\\2024-04-ds_cast_study_data\\division_010_weather.csv\")\n",
    "df_30_consumption = pd.read_csv(r\"C:\\Users\\NicholasOliver\\OneDrive - amendllc.com\\DS_Case_Study\\2024-04-ds_cast_study_data\\division_030_consumption.csv\")\n",
    "df_30_holiday = pd.read_csv(r\"C:\\Users\\NicholasOliver\\OneDrive - amendllc.com\\DS_Case_Study\\2024-04-ds_cast_study_data\\division_030_holiday.csv\")\n",
    "df_30_weather = pd.read_csv(r\"C:\\Users\\NicholasOliver\\OneDrive - amendllc.com\\DS_Case_Study\\2024-04-ds_cast_study_data\\division_030_weather.csv\")"
   ]
  },
  {
   "cell_type": "code",
   "execution_count": 3,
   "metadata": {},
   "outputs": [],
   "source": [
    "# Clean & Prep\n",
    "df_10_weather['AvgTemp'] = df_10_weather['ProjectedHighTemp'] - ((df_10_weather['ProjectedHighTemp'] - df_10_weather['ProjectedLowTemp'])/2)\n",
    "df_30_weather['AvgTemp'] = df_30_weather['ProjectedHighTemp'] - ((df_30_weather['ProjectedHighTemp'] - df_30_weather['ProjectedLowTemp'])/2)\n",
    "df_30_holiday = df_30_holiday.drop(['PeakMonth', 'Event01', 'Event02', 'Event03', 'Event04', 'Event05'], axis=1)\n",
    "df_10_holiday = df_10_holiday.drop(['PeakMonth', 'Event01', 'Event02', 'Event03', 'Event04', 'Event05'], axis=1)\n",
    "columns_to_check = ['Christmas', 'July4th', 'SuperBowl', 'Thanksgiving', 'Easter', 'LaborDay', 'MemorialDay', 'NewYearsEve', 'NewYearsDay']\n",
    "df_30_holiday['Holiday?'] = df_30_holiday[columns_to_check].any(axis=1)\n",
    "df_10_holiday['Holiday?'] = df_10_holiday[columns_to_check].any(axis=1)\n",
    "df_10_consumption['TotalConsumption'] = df_10_consumption['TotalConsumption'].astype(int)\n",
    "df_10_consumption['TotalConsumption'] = df_10_consumption['TotalConsumption'].apply(lambda x:abs(x))\n",
    "df_10_consumption.drop(df_10_consumption[df_10_consumption['TotalConsumption']==0].index, inplace=True)\n",
    "df_10_consumption = df_10_consumption.drop('Unnamed: 4', axis=1)\n",
    "df_30_consumption = df_30_consumption.drop('Unnamed: 4', axis=1)\n",
    "df_10_weather = df_10_weather.drop(['ProjectedHighTemp','ProjectedLowTemp'],axis=1)\n",
    "df_30_weather = df_30_weather.drop(['ProjectedHighTemp','ProjectedLowTemp'],axis=1)\n",
    "df_10_consumption['DayOfTheYear'] = pd.to_datetime(df_10_consumption['DayOfTheYear'])\n",
    "df_30_consumption['DayOfTheYear'] = pd.to_datetime(df_30_consumption['DayOfTheYear'])\n",
    "df_10_weather['DayOfTheYear'] = pd.to_datetime(df_10_weather['DayOfTheYear'])\n",
    "df_30_weather['DayOfTheYear'] = pd.to_datetime(df_30_weather['DayOfTheYear'])\n",
    "df_30_holiday['DayOfTheYear'] = pd.to_datetime(df_30_holiday['DayOfTheYear'])\n",
    "df_10_holiday['DayOfTheYear'] = pd.to_datetime(df_10_holiday['DayOfTheYear'])\n",
    "df_10_consumption['DayOfTheWeek'] = df_10_consumption['DayOfTheYear'].dt.day_name()\n",
    "df_30_consumption['DayOfTheWeek'] = df_30_consumption['DayOfTheYear'].dt.day_name()\n",
    "\n",
    "df_10 = pd.merge(pd.merge(df_10_consumption, df_10_weather, how='left',on='DayOfTheYear'), df_10_holiday, on='DayOfTheYear', how='left')\n",
    "df_30 = pd.merge(pd.merge(df_30_consumption, df_30_weather, how='left',on='DayOfTheYear'), df_30_holiday, on='DayOfTheYear', how='left')\n",
    "df_10 = df_10.drop('Division_y',axis=1).rename(columns={'Division_x':'Division'})\n",
    "df_30 = df_30.drop('Division_y',axis=1).rename(columns={'Division_x':'Division'})\n",
    "df = pd.concat([df_10,df_30], ignore_index=True)"
   ]
  },
  {
   "cell_type": "code",
   "execution_count": 5,
   "metadata": {},
   "outputs": [
    {
     "name": "stdout",
     "output_type": "stream",
     "text": [
      "3103.277957594982\n",
      "0.0\n",
      "There is a significant difference between the groups.\n",
      "     Multiple Comparison of Means - Tukey HSD, FWER=0.05      \n",
      "==============================================================\n",
      " group1    group2   meandiff p-adj    lower     upper   reject\n",
      "--------------------------------------------------------------\n",
      "  Friday    Monday -125.3767    0.0 -134.1415  -116.612   True\n",
      "  Friday  Saturday -123.8674    0.0 -132.6208  -115.114   True\n",
      "  Friday    Sunday -133.0353    0.0 -141.8029 -124.2676   True\n",
      "  Friday  Thursday  186.2134    0.0  177.4641  194.9628   True\n",
      "  Friday   Tuesday -100.9474    0.0 -109.7113  -92.1835   True\n",
      "  Friday Wednesday   10.8403 0.0048    2.0925   19.5882   True\n",
      "  Monday  Saturday    1.5093 0.9988   -7.2541   10.2726  False\n",
      "  Monday    Sunday   -7.6586 0.1344  -16.4362     1.119  False\n",
      "  Monday  Thursday  311.5901    0.0  302.8308  320.3495   True\n",
      "  Monday   Tuesday   24.4293    0.0   15.6554   33.2032   True\n",
      "  Monday Wednesday   136.217    0.0  127.4592  144.9749   True\n",
      "Saturday    Sunday   -9.1678 0.0335  -17.9341   -0.4016   True\n",
      "Saturday  Thursday  310.0808    0.0  301.3329  318.8288   True\n",
      "Saturday   Tuesday     22.92    0.0   14.1575   31.6826   True\n",
      "Saturday Wednesday  134.7077    0.0  125.9613  143.4542   True\n",
      "  Sunday  Thursday  319.2487    0.0  310.4865  328.0109   True\n",
      "  Sunday   Tuesday   32.0879    0.0   23.3111   40.8647   True\n",
      "  Sunday Wednesday  143.8756    0.0  135.1149  152.6363   True\n",
      "Thursday   Tuesday -287.1608    0.0 -295.9193 -278.4023   True\n",
      "Thursday Wednesday -175.3731    0.0 -184.1155 -166.6307   True\n",
      " Tuesday Wednesday  111.7877    0.0  103.0307  120.5447   True\n",
      "--------------------------------------------------------------\n"
     ]
    }
   ],
   "source": [
    "#Testing if there is significant difference between days of the week in predicting total consumption\n",
    "f_stat, p_value = f_oneway(df[df['DayOfTheWeek'] == 'Monday']['TotalConsumption'],\n",
    "                           df[df['DayOfTheWeek'] == 'Tuesday']['TotalConsumption'],\n",
    "                           df[df['DayOfTheWeek'] == 'Wednesday']['TotalConsumption'],\n",
    "                           df[df['DayOfTheWeek'] == 'Thursday']['TotalConsumption'],\n",
    "                           df[df['DayOfTheWeek'] == 'Friday']['TotalConsumption'],\n",
    "                           df[df['DayOfTheWeek'] == 'Saturday']['TotalConsumption'],\n",
    "                           df[df['DayOfTheWeek'] == 'Sunday']['TotalConsumption'])\n",
    "print(f_stat)\n",
    "print(p_value)\n",
    "if p_value < 0.05:\n",
    "    print(\"There is a significant difference between the groups.\")\n",
    "else:\n",
    "    print(\"There is no significant difference between the groups.\")\n",
    "tukey_results = pairwise_tukeyhsd(df['TotalConsumption'], df['DayOfTheWeek'])\n",
    "print(tukey_results)\n",
    "#Conclusion: There is significant difference between all days except (Mon, Sat, Sun)\n",
    "#Our groups then would be: (Mon, Sat, Sun), (Tuesday), (Wednesday), (Thursday), (Friday). This would be impractical having 5 groups though. We might as well just treat them all differently at that point."
   ]
  },
  {
   "cell_type": "code",
   "execution_count": 8,
   "metadata": {},
   "outputs": [
    {
     "data": {
      "text/plain": [
       "DayOfTheWeek\n",
       "Thursday     508.546853\n",
       "Wednesday    333.831850\n",
       "Friday       326.997567\n",
       "Tuesday      216.047442\n",
       "Monday       188.868716\n",
       "Sunday       183.494786\n",
       "Saturday     177.456527\n",
       "Name: TotalConsumption, dtype: float64"
      ]
     },
     "execution_count": 8,
     "metadata": {},
     "output_type": "execute_result"
    }
   ],
   "source": [
    "#Which days are most busy\n",
    "df[df['Holiday?']==False].groupby(['DayOfTheWeek'])['TotalConsumption'].mean().sort_values(ascending=False)\n",
    "#Thursday, Wednesday, then Friday are biggest days for consumption. There is a > 100 mean difference between all 3 of these means, and the rest of the days.We will group Wed Thu Fri as \"Busy Days\".\n",
    "#Median has same order. If you were wondering."
   ]
  },
  {
   "cell_type": "code",
   "execution_count": 9,
   "metadata": {},
   "outputs": [],
   "source": [
    "# Clean for linear regression model\n",
    "def busyday(x):\n",
    "    if x == 'Wednesday':\n",
    "        return 1\n",
    "    if x == 'Thursday':\n",
    "        return 1\n",
    "    if x == 'Friday':\n",
    "        return 1\n",
    "    else:\n",
    "        return 0\n",
    "    \n",
    "\n",
    "# BusyDay = ['Friday', 'Wednesday', 'Thursday']\n",
    "df['BusyDay?'] = df['DayOfTheWeek'].apply(busyday)\n",
    "\n",
    "# Set Holidays to int\n",
    "df['Christmas'] = df['Christmas'].astype(int)\n",
    "df['July4th'] = df['July4th'].astype(int)\n",
    "df['SuperBowl'] = df['SuperBowl'].astype(int)\n",
    "df['Thanksgiving'] = df['Thanksgiving'].astype(int)\n",
    "df['Easter'] = df['Easter'].astype(int)\n",
    "df['LaborDay'] = df['LaborDay'].astype(int)\n",
    "df['MemorialDay'] = df['MemorialDay'].astype(int)\n",
    "df['NewYearsEve'] = df['NewYearsEve'].astype(int)\n",
    "df['NewYearsDay'] = df['NewYearsDay'].astype(int)\n",
    "df['Holiday?'] = df['Holiday?'].astype(int)\n",
    "#Should we make the days proceeding the holidays also of value 1? How many days before? Do some more statistical exploration"
   ]
  },
  {
   "cell_type": "code",
   "execution_count": 10,
   "metadata": {},
   "outputs": [
    {
     "name": "stdout",
     "output_type": "stream",
     "text": [
      "                            OLS Regression Results                            \n",
      "==============================================================================\n",
      "Dep. Variable:       TotalConsumption   R-squared:                       0.076\n",
      "Model:                            OLS   Adj. R-squared:                  0.076\n",
      "Method:                 Least Squares   F-statistic:                 1.768e+04\n",
      "Date:                Wed, 12 Jun 2024   Prob (F-statistic):               0.00\n",
      "Time:                        15:46:04   Log-Likelihood:            -3.2880e+06\n",
      "No. Observations:              429510   AIC:                         6.576e+06\n",
      "Df Residuals:                  429507   BIC:                         6.576e+06\n",
      "Df Model:                           2                                         \n",
      "Covariance Type:            nonrobust                                         \n",
      "=======================================================================================\n",
      "                          coef    std err          t      P>|t|      [0.025      0.975]\n",
      "---------------------------------------------------------------------------------------\n",
      "const                -135.2474      2.549    -53.060      0.000    -140.243    -130.252\n",
      "AvgTemp                 8.0150      0.043    186.877      0.000       7.931       8.099\n",
      "PrecipitationChance    -1.1191      0.025    -44.864      0.000      -1.168      -1.070\n",
      "==============================================================================\n",
      "Omnibus:                  1265960.951   Durbin-Watson:                   1.702\n",
      "Prob(Omnibus):                  0.000   Jarque-Bera (JB):     203209370025.645\n",
      "Skew:                          41.560   Prob(JB):                         0.00\n",
      "Kurtosis:                    3371.672   Cond. No.                         222.\n",
      "==============================================================================\n",
      "\n",
      "Notes:\n",
      "[1] Standard Errors assume that the covariance matrix of the errors is correctly specified.\n"
     ]
    }
   ],
   "source": [
    "#Model 1\n",
    "Y = df['TotalConsumption']\n",
    "X = df[['AvgTemp', 'PrecipitationChance']]\n",
    "X = sm.add_constant(X)\n",
    "modelv1 = sm.OLS(Y, X).fit()\n",
    "print(modelv1.summary())"
   ]
  },
  {
   "cell_type": "code",
   "execution_count": 12,
   "metadata": {},
   "outputs": [
    {
     "name": "stdout",
     "output_type": "stream",
     "text": [
      "                            OLS Regression Results                            \n",
      "==============================================================================\n",
      "Dep. Variable:       TotalConsumption   R-squared:                       0.117\n",
      "Model:                            OLS   Adj. R-squared:                  0.117\n",
      "Method:                 Least Squares   F-statistic:                     4730.\n",
      "Date:                Wed, 12 Jun 2024   Prob (F-statistic):               0.00\n",
      "Time:                        15:46:22   Log-Likelihood:            -3.2783e+06\n",
      "No. Observations:              429510   AIC:                         6.557e+06\n",
      "Df Residuals:                  429497   BIC:                         6.557e+06\n",
      "Df Model:                          12                                         \n",
      "Covariance Type:            nonrobust                                         \n",
      "=======================================================================================\n",
      "                          coef    std err          t      P>|t|      [0.025      0.975]\n",
      "---------------------------------------------------------------------------------------\n",
      "const                -229.5904      2.632    -87.235      0.000    -234.749    -224.432\n",
      "AvgTemp                 8.0299      0.043    188.616      0.000       7.946       8.113\n",
      "PrecipitationChance    -1.0374      0.024    -42.377      0.000      -1.085      -0.989\n",
      "BusyDay?              199.8700      1.554    128.642      0.000     196.825     202.915\n",
      "Christmas              97.8841     15.359      6.373      0.000      67.781     127.987\n",
      "July4th               688.3422     14.611     47.110      0.000     659.704     716.980\n",
      "SuperBowl             -59.6723     14.717     -4.055      0.000     -88.517     -30.827\n",
      "Thanksgiving          401.0392     14.566     27.533      0.000     372.491     429.587\n",
      "Easter                -68.8608     14.641     -4.703      0.000     -97.556     -40.165\n",
      "LaborDay              117.5602     14.643      8.028      0.000      88.860     146.260\n",
      "MemorialDay           472.7088     14.588     32.405      0.000     444.118     501.300\n",
      "NewYearsEve           201.3205     14.572     13.815      0.000     172.759     229.882\n",
      "NewYearsDay            30.7951     14.750      2.088      0.037       1.885      59.705\n",
      "==============================================================================\n",
      "Omnibus:                  1296654.073   Durbin-Watson:                   1.780\n",
      "Prob(Omnibus):                  0.000   Jarque-Bera (JB):     245732312670.185\n",
      "Skew:                          44.410   Prob(JB):                         0.00\n",
      "Kurtosis:                    3707.463   Cond. No.                     1.37e+03\n",
      "==============================================================================\n",
      "\n",
      "Notes:\n",
      "[1] Standard Errors assume that the covariance matrix of the errors is correctly specified.\n",
      "[2] The condition number is large, 1.37e+03. This might indicate that there are\n",
      "strong multicollinearity or other numerical problems.\n"
     ]
    }
   ],
   "source": [
    "#Model 3\n",
    "Y = df['TotalConsumption']\n",
    "X = df[['AvgTemp', 'PrecipitationChance', 'BusyDay?', 'Christmas', 'July4th', 'SuperBowl', 'Thanksgiving', 'Easter', 'LaborDay', 'MemorialDay', 'NewYearsEve', 'NewYearsDay']]\n",
    "X = sm.add_constant(X)\n",
    "modelv3 = sm.OLS(Y, X).fit()\n",
    "print(modelv3.summary())"
   ]
  },
  {
   "cell_type": "code",
   "execution_count": 13,
   "metadata": {},
   "outputs": [
    {
     "name": "stdout",
     "output_type": "stream",
     "text": [
      "                            OLS Regression Results                            \n",
      "==============================================================================\n",
      "Dep. Variable:       TotalConsumption   R-squared:                       0.112\n",
      "Model:                            OLS   Adj. R-squared:                  0.112\n",
      "Method:                 Least Squares   F-statistic:                 1.349e+04\n",
      "Date:                Wed, 12 Jun 2024   Prob (F-statistic):               0.00\n",
      "Time:                        15:46:27   Log-Likelihood:            -3.2796e+06\n",
      "No. Observations:              429510   AIC:                         6.559e+06\n",
      "Df Residuals:                  429505   BIC:                         6.559e+06\n",
      "Df Model:                           4                                         \n",
      "Covariance Type:            nonrobust                                         \n",
      "=======================================================================================\n",
      "                          coef    std err          t      P>|t|      [0.025      0.975]\n",
      "---------------------------------------------------------------------------------------\n",
      "const                -235.9665      2.615    -90.243      0.000    -241.091    -230.842\n",
      "AvgTemp                 8.2016      0.042    194.757      0.000       8.119       8.284\n",
      "PrecipitationChance    -1.0360      0.024    -42.344      0.000      -1.084      -0.988\n",
      "BusyDay?              192.1357      1.545    124.346      0.000     189.107     195.164\n",
      "Holiday?              212.1415      4.963     42.742      0.000     202.414     221.869\n",
      "==============================================================================\n",
      "Omnibus:                  1293019.555   Durbin-Watson:                   1.770\n",
      "Prob(Omnibus):                  0.000   Jarque-Bera (JB):     240128941804.053\n",
      "Skew:                          44.065   Prob(JB):                         0.00\n",
      "Kurtosis:                    3664.976   Cond. No.                         442.\n",
      "==============================================================================\n",
      "\n",
      "Notes:\n",
      "[1] Standard Errors assume that the covariance matrix of the errors is correctly specified.\n"
     ]
    }
   ],
   "source": [
    "#Model 4\n",
    "Y = df['TotalConsumption']\n",
    "X = df[['AvgTemp', 'PrecipitationChance', 'BusyDay?', 'Holiday?']]\n",
    "X = sm.add_constant(X)\n",
    "modelv4 = sm.OLS(Y, X).fit()\n",
    "print(modelv4.summary())"
   ]
  }
 ],
 "metadata": {
  "kernelspec": {
   "display_name": "Python 3",
   "language": "python",
   "name": "python3"
  },
  "language_info": {
   "codemirror_mode": {
    "name": "ipython",
    "version": 3
   },
   "file_extension": ".py",
   "mimetype": "text/x-python",
   "name": "python",
   "nbconvert_exporter": "python",
   "pygments_lexer": "ipython3",
   "version": "3.11.7"
  }
 },
 "nbformat": 4,
 "nbformat_minor": 2
}
