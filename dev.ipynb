{
 "cells": [
  {
   "cell_type": "code",
   "execution_count": 5,
   "metadata": {},
   "outputs": [],
   "source": [
    "import pandas as pd\n",
    "import numpy as np"
   ]
  },
  {
   "cell_type": "code",
   "execution_count": 8,
   "metadata": {},
   "outputs": [],
   "source": [
    "df_10_consumption = pd.read_csv(r\"C:\\Users\\NicholasOliver\\OneDrive - amendllc.com\\DS_Case_Study\\2024-04-ds_cast_study_data\\division_010_consumption.csv\")\n",
    "df_10_holiday = pd.read_csv(r\"C:\\Users\\NicholasOliver\\OneDrive - amendllc.com\\DS_Case_Study\\2024-04-ds_cast_study_data\\division_010_holiday.csv\")\n",
    "df_10_weather = pd.read_csv(r\"C:\\Users\\NicholasOliver\\OneDrive - amendllc.com\\DS_Case_Study\\2024-04-ds_cast_study_data\\division_010_weather.csv\")\n",
    "df_30_consumption = pd.read_csv(r\"C:\\Users\\NicholasOliver\\OneDrive - amendllc.com\\DS_Case_Study\\2024-04-ds_cast_study_data\\division_030_consumption.csv\")\n",
    "df_30_holiday = pd.read_csv(r\"C:\\Users\\NicholasOliver\\OneDrive - amendllc.com\\DS_Case_Study\\2024-04-ds_cast_study_data\\division_030_holiday.csv\")\n",
    "df_30_weather = pd.read_csv(r\"C:\\Users\\NicholasOliver\\OneDrive - amendllc.com\\DS_Case_Study\\2024-04-ds_cast_study_data\\division_030_weather.csv\")"
   ]
  },
  {
   "cell_type": "code",
   "execution_count": 9,
   "metadata": {},
   "outputs": [
    {
     "name": "stdout",
     "output_type": "stream",
     "text": [
      "        Division  AccountID DayOfTheYear  TotalConsumption  Unnamed: 4\n",
      "0             10         58     1/1/2020               124         NaN\n",
      "1             10         65     1/1/2020               167         NaN\n",
      "2             10        152     1/1/2020                70         NaN\n",
      "3             10        428     1/1/2020               146         NaN\n",
      "4             10        429     1/1/2020               107         NaN\n",
      "...          ...        ...          ...               ...         ...\n",
      "216232        10     167963   12/31/2022                36         NaN\n",
      "216233        10     167974   12/31/2022               629         NaN\n",
      "216234        10     168003   12/31/2022                48         NaN\n",
      "216235        10     175443   12/31/2022              1839         NaN\n",
      "216236        10     220596   12/31/2022               -68         NaN\n",
      "\n",
      "[216237 rows x 5 columns]\n"
     ]
    }
   ],
   "source": [
    "print(df_10_consumption)"
   ]
  }
 ],
 "metadata": {
  "kernelspec": {
   "display_name": "Python 3",
   "language": "python",
   "name": "python3"
  },
  "language_info": {
   "codemirror_mode": {
    "name": "ipython",
    "version": 3
   },
   "file_extension": ".py",
   "mimetype": "text/x-python",
   "name": "python",
   "nbconvert_exporter": "python",
   "pygments_lexer": "ipython3",
   "version": "3.11.7"
  }
 },
 "nbformat": 4,
 "nbformat_minor": 2
}
