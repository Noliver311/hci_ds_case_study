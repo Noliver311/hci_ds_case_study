{
 "cells": [
  {
   "cell_type": "code",
   "execution_count": 104,
   "metadata": {},
   "outputs": [],
   "source": [
    "import pandas as pd\n",
    "import numpy as np\n",
    "import statsmodels.api as sm\n",
    "from scipy.stats import f_oneway\n",
    "from statsmodels.stats.multicomp import pairwise_tukeyhsd\n",
    "from sklearn.preprocessing import LabelEncoder\n"
   ]
  },
  {
   "cell_type": "code",
   "execution_count": 108,
   "metadata": {},
   "outputs": [],
   "source": [
    "# Import\n",
    "df_10_consumption = pd.read_csv(r\"C:\\Users\\NicholasOliver\\OneDrive - amendllc.com\\DS_Case_Study\\2024-04-ds_cast_study_data\\division_010_consumption.csv\")\n",
    "df_10_holiday = pd.read_csv(r\"C:\\Users\\NicholasOliver\\OneDrive - amendllc.com\\DS_Case_Study\\2024-04-ds_cast_study_data\\division_010_holiday.csv\")\n",
    "df_10_weather = pd.read_csv(r\"C:\\Users\\NicholasOliver\\OneDrive - amendllc.com\\DS_Case_Study\\2024-04-ds_cast_study_data\\division_010_weather.csv\")\n",
    "df_30_consumption = pd.read_csv(r\"C:\\Users\\NicholasOliver\\OneDrive - amendllc.com\\DS_Case_Study\\2024-04-ds_cast_study_data\\division_030_consumption.csv\")\n",
    "df_30_holiday = pd.read_csv(r\"C:\\Users\\NicholasOliver\\OneDrive - amendllc.com\\DS_Case_Study\\2024-04-ds_cast_study_data\\division_030_holiday.csv\")\n",
    "df_30_weather = pd.read_csv(r\"C:\\Users\\NicholasOliver\\OneDrive - amendllc.com\\DS_Case_Study\\2024-04-ds_cast_study_data\\division_030_weather.csv\")"
   ]
  },
  {
   "cell_type": "code",
   "execution_count": 109,
   "metadata": {},
   "outputs": [],
   "source": [
    "# Clean & Prep\n",
    "df_10_weather['AvgTemp'] = df_10_weather['ProjectedHighTemp'] - ((df_10_weather['ProjectedHighTemp'] - df_10_weather['ProjectedLowTemp'])/2)\n",
    "df_30_weather['AvgTemp'] = df_30_weather['ProjectedHighTemp'] - ((df_30_weather['ProjectedHighTemp'] - df_30_weather['ProjectedLowTemp'])/2)\n",
    "df_30_holiday = df_30_holiday.drop(['PeakMonth', 'Event01', 'Event02', 'Event03', 'Event04', 'Event05'], axis=1)\n",
    "df_10_holiday = df_10_holiday.drop(['PeakMonth', 'Event01', 'Event02', 'Event03', 'Event04', 'Event05'], axis=1)\n",
    "columns_to_check = ['Christmas', 'July4th', 'SuperBowl', 'Thanksgiving', 'Easter', 'LaborDay', 'MemorialDay', 'NewYearsEve', 'NewYearsDay']\n",
    "df_30_holiday['Holiday?'] = df_30_holiday[columns_to_check].any(axis=1)\n",
    "df_10_holiday['Holiday?'] = df_10_holiday[columns_to_check].any(axis=1)\n",
    "df_10_consumption['TotalConsumption'] = df_10_consumption['TotalConsumption'].astype(int)\n",
    "df_10_consumption['TotalConsumption'] = df_10_consumption['TotalConsumption'].apply(lambda x:abs(x))\n",
    "df_10_consumption.drop(df_10_consumption[df_10_consumption['TotalConsumption']==0].index, inplace=True)\n",
    "df_10_consumption = df_10_consumption.drop('Unnamed: 4', axis=1)\n",
    "df_30_consumption = df_30_consumption.drop('Unnamed: 4', axis=1)\n",
    "df_10_weather = df_10_weather.drop(['ProjectedHighTemp','ProjectedLowTemp'],axis=1)\n",
    "df_30_weather = df_30_weather.drop(['ProjectedHighTemp','ProjectedLowTemp'],axis=1)\n",
    "df_10_consumption['DayOfTheYear'] = pd.to_datetime(df_10_consumption['DayOfTheYear'])\n",
    "df_30_consumption['DayOfTheYear'] = pd.to_datetime(df_30_consumption['DayOfTheYear'])\n",
    "df_10_weather['DayOfTheYear'] = pd.to_datetime(df_10_weather['DayOfTheYear'])\n",
    "df_30_weather['DayOfTheYear'] = pd.to_datetime(df_30_weather['DayOfTheYear'])\n",
    "df_30_holiday['DayOfTheYear'] = pd.to_datetime(df_30_holiday['DayOfTheYear'])\n",
    "df_10_holiday['DayOfTheYear'] = pd.to_datetime(df_10_holiday['DayOfTheYear'])\n",
    "df_10_consumption['DayOfTheWeek'] = df_10_consumption['DayOfTheYear'].dt.day_name()\n",
    "df_30_consumption['DayOfTheWeek'] = df_30_consumption['DayOfTheYear'].dt.day_name()\n",
    "\n",
    "df_10 = pd.merge(pd.merge(df_10_consumption, df_10_weather, how='left',on='DayOfTheYear'), df_10_holiday, on='DayOfTheYear', how='left')\n",
    "df_30 = pd.merge(pd.merge(df_30_consumption, df_30_weather, how='left',on='DayOfTheYear'), df_30_holiday, on='DayOfTheYear', how='left')\n",
    "df_10 = df_10.drop('Division_y',axis=1).rename(columns={'Division_x':'Division'})\n",
    "df_30 = df_30.drop('Division_y',axis=1).rename(columns={'Division_x':'Division'})\n",
    "df = pd.concat([df_10,df_30], ignore_index=True)"
   ]
  },
  {
   "cell_type": "code",
   "execution_count": null,
   "metadata": {},
   "outputs": [],
   "source": [
    "# Data Exploration\n",
    "\n",
    "\n",
    "df[df['Holiday?']==False].groupby(['DayOfTheWeek'])['TotalConsumption'].mean().sort_values()\n",
    "#Thursday, Friday, then Wednesday are biggest days for consumption. There is a > 100 mean difference between all 3 of these means, and the rest of the days.We will group Wed Thu Fri as \"Busy Days\".\n",
    "#Median has same order. If you were wondering.\n",
    "\n",
    "\n",
    "\n",
    "#Testing if there is significant difference between days of the week in predicting total consumption\n",
    "f_stat, p_value = f_oneway(df[df['DayOfTheWeek'] == 'Monday']['TotalConsumption'],\n",
    "                           df[df['DayOfTheWeek'] == 'Tuesday']['TotalConsumption'],\n",
    "                           df[df['DayOfTheWeek'] == 'Wednesday']['TotalConsumption'],\n",
    "                           df[df['DayOfTheWeek'] == 'Thursday']['TotalConsumption'],\n",
    "                           df[df['DayOfTheWeek'] == 'Friday']['TotalConsumption'],\n",
    "                           df[df['DayOfTheWeek'] == 'Saturday']['TotalConsumption'],\n",
    "                           df[df['DayOfTheWeek'] == 'Sunday']['TotalConsumption'])\n",
    "\n",
    "print(f_stat)\n",
    "print(p_value)\n",
    "if p_value < 0.05:\n",
    "    print(\"There is a significant difference between the groups.\")\n",
    "else:\n",
    "    print(\"There is no significant difference between the groups.\")\n",
    "tukey_results = pairwise_tukeyhsd(df['TotalConsumption'], df['DayOfTheWeek'])\n",
    "print(tukey_results)\n",
    "#Conclusion: There is significant difference between all days except (Mon, Sat, Sun)\n",
    "#Our two groups: (Mon, Sat, Sun), (Tuesday), (Wednesday), (Thursday), (Friday). This would be impractical having 5 groups though. We might as well just treat them all differently at that point."
   ]
  },
  {
   "cell_type": "code",
   "execution_count": 143,
   "metadata": {},
   "outputs": [],
   "source": [
    "# Clean for linear regression model\n",
    "def busyday(x):\n",
    "    if x == 'Wednesday':\n",
    "        return 1\n",
    "    if x == 'Thursday':\n",
    "        return 1\n",
    "    if x == 'Friday':\n",
    "        return 1\n",
    "    else:\n",
    "        return 0\n",
    "    \n",
    "\n",
    "# BusyDay = ['Friday', 'Wednesday', 'Thursday']\n",
    "df['BusyDay?'] = df['DayOfTheWeek'].apply(busyday)\n",
    "\n",
    "# Set Holidays to int\n",
    "df['Christmas'] = df['Christmas'].astype(int)\n",
    "df['July4th'] = df['July4th'].astype(int)\n",
    "df['SuperBowl'] = df['SuperBowl'].astype(int)\n",
    "df['Thanksgiving'] = df['Thanksgiving'].astype(int)\n",
    "df['Easter'] = df['Easter'].astype(int)\n",
    "df['LaborDay'] = df['LaborDay'].astype(int)\n",
    "df['MemorialDay'] = df['MemorialDay'].astype(int)\n",
    "df['NewYearsEve'] = df['NewYearsEve'].astype(int)\n",
    "df['NewYearsDay'] = df['NewYearsDay'].astype(int)\n",
    "df['Holiday?'] = df['Holiday?'].astype(int)\n",
    "#Should we make the days proceeding the holidays also of value 1? How many days before? Do some more statistical exploration"
   ]
  },
  {
   "cell_type": "code",
   "execution_count": null,
   "metadata": {},
   "outputs": [],
   "source": [
    "#Model 1\n",
    "Y = df['TotalConsumption']\n",
    "X = df[['AvgTemp', 'PrecipitationChance']]\n",
    "X = sm.add_constant(X)\n",
    "modelv1 = sm.OLS(Y, X).fit()\n",
    "print(modelv1.summary())"
   ]
  },
  {
   "cell_type": "code",
   "execution_count": null,
   "metadata": {},
   "outputs": [],
   "source": [
    "#Model 2\n",
    "Y = df['TotalConsumption']\n",
    "X = df[['AvgTemp', 'PrecipitationChance', 'DayOfTheWeek_Encoded']]\n",
    "X = sm.add_constant(X)\n",
    "modelv2 = sm.OLS(Y, X).fit()\n",
    "print(modelv2.summary())"
   ]
  },
  {
   "cell_type": "code",
   "execution_count": null,
   "metadata": {},
   "outputs": [],
   "source": [
    "#Model 3\n",
    "Y = df['TotalConsumption']\n",
    "X = df[['AvgTemp', 'PrecipitationChance', 'BusyDay?', 'Christmas', 'July4th', 'SuperBowl', 'Thanksgiving', 'Easter', 'LaborDay', 'MemorialDay', 'NewYearsEve', 'NewYearsDay']]\n",
    "X = sm.add_constant(X)\n",
    "modelv3 = sm.OLS(Y, X).fit()\n",
    "print(modelv3.summary())"
   ]
  },
  {
   "cell_type": "code",
   "execution_count": null,
   "metadata": {},
   "outputs": [],
   "source": [
    "#Model 4\n",
    "Y = df['TotalConsumption']\n",
    "X = df[['AvgTemp', 'PrecipitationChance', 'BusyDay?', 'Holiday?']]\n",
    "X = sm.add_constant(X)\n",
    "modelv4 = sm.OLS(Y, X).fit()\n",
    "print(modelv4.summary())"
   ]
  }
 ],
 "metadata": {
  "kernelspec": {
   "display_name": "Python 3",
   "language": "python",
   "name": "python3"
  },
  "language_info": {
   "codemirror_mode": {
    "name": "ipython",
    "version": 3
   },
   "file_extension": ".py",
   "mimetype": "text/x-python",
   "name": "python",
   "nbconvert_exporter": "python",
   "pygments_lexer": "ipython3",
   "version": "3.11.7"
  }
 },
 "nbformat": 4,
 "nbformat_minor": 2
}
